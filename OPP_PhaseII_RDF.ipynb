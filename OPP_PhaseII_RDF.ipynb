{
  "nbformat": 4,
  "nbformat_minor": 0,
  "metadata": {
    "colab": {
      "name": "OPP_PhaseII_RDF.ipynb",
      "provenance": [],
      "collapsed_sections": [],
      "authorship_tag": "ABX9TyNuDM2HgUuxM0/RqjyNv+X6",
      "include_colab_link": true
    },
    "kernelspec": {
      "name": "python3",
      "display_name": "Python 3"
    }
  },
  "cells": [
    {
      "cell_type": "markdown",
      "metadata": {
        "id": "view-in-github",
        "colab_type": "text"
      },
      "source": [
        "<a href=\"https://colab.research.google.com/github/oceanproteinportal/phase2-onboarding-resources/blob/main/OPP_PhaseII_RDF.ipynb\" target=\"_parent\"><img src=\"https://colab.research.google.com/assets/colab-badge.svg\" alt=\"Open In Colab\"/></a>"
      ]
    },
    {
      "cell_type": "code",
      "metadata": {
        "id": "9NXAxZ1pUHMZ"
      },
      "source": [
        "%%capture\n",
        "!pip -q install rdflib\n",
        "!pip -q install datapackage\n",
        "\n",
        "from rdflib import BNode, Graph, Literal, Namespace, RDF, URIRef, plugin\n",
        "from rdflib.namespace import XSD\n",
        "from rdflib.serializer import Serializer\n",
        "import datapackage\n",
        "import uuid"
      ],
      "execution_count": 7,
      "outputs": []
    },
    {
      "cell_type": "code",
      "metadata": {
        "colab": {
          "base_uri": "https://localhost:8080/"
        },
        "id": "D9wFQqSdXneU",
        "outputId": "c4aaadeb-626f-429d-fc2d-4a84a8b0dcfb"
      },
      "source": [
        "dp = datapackage.DataPackage('https://raw.githubusercontent.com/oceanproteinportal/phase2-onboarding-resources/main/datapackage.json', None)\n",
        "if (dp.errors):\n",
        "    for error in dp.errors:\n",
        "        logging.error(error)\n",
        "    raise Exception('Invalid data package')\n",
        "\n",
        "# Validate the Datapackage\n",
        "try:\n",
        "    valid = datapackage.validate(dp.descriptor)\n",
        "except exceptions.ValidationError as exception:\n",
        "    for error in datapackage.exception.errors:\n",
        "        logging.error(error)\n",
        "    raise Exception('Invalid data package')\n",
        "\n",
        "# Generate datasetId\n",
        "datasetId = str(uuid.uuid3(uuid.NAMESPACE_DNS, dp.descriptor['name'] + '_ver.' + dp.descriptor.get('version', 'noversion')))\n",
        "\n",
        "print(datasetId)"
      ],
      "execution_count": 12,
      "outputs": [
        {
          "output_type": "stream",
          "text": [
            "cf4891ae-fddc-3e2c-9dbc-a3aca5498c5f\n"
          ],
          "name": "stdout"
        }
      ]
    },
    {
      "cell_type": "code",
      "metadata": {
        "colab": {
          "base_uri": "https://localhost:8080/"
        },
        "id": "2sSz-HgYXiq7",
        "outputId": "f0c8589b-1712-45c9-aace-4b11522b7054"
      },
      "source": [
        "# Define Namespaces\n",
        "geo = Namespace(\"http://www.w3.org/2003/01/geo/wgs84_pos#\")\n",
        "opp = Namespace(\"http://schema.oceanproteinportal.org/v2/\")\n",
        "rdfs = Namespace(\"http://www.w3.org/2000/01/rdf-schema#\")\n",
        "schema = Namespace(\"http://schema.org/\")\n",
        "sosa = Namespace(\"http://www.w3.org/ns/sosa/\")\n",
        "ssn = Namespace(\"http://www.w3.org/ns/ssn/\")\n",
        "ssn_system = Namespace(\"http://www.w3.org/ns/ssn/systems/\")\n",
        "wikidata = Namespace(\"http://www.wikidata.org/entity/\")\n",
        "\n",
        "\n",
        "# Add namespaces to graph\n",
        "g = Graph()\n",
        "g.bind(\"geo\", geo)\n",
        "g.bind(\"opp\", opp)\n",
        "g.bind(\"rdf\", RDF)\n",
        "g.bind(\"rdfs\", rdfs)\n",
        "g.bind(\"schema\", schema)\n",
        "g.bind(\"sosa\", sosa)\n",
        "g.bind(\"ssn\", ssn)\n",
        "g.bind(\"ssn-system\", ssn_system)\n",
        "g.bind(\"wikidata\", wikidata)\n",
        "g.bind(\"xsd\", XSD)\n",
        "\n",
        "# Define URI space for OPP subjects\n",
        "id_uri_prefix = \"http://id.oceanproteinportal.org/\"\n",
        "\n",
        "dataset = URIRef(id_uri_prefix + \"dataset/\" + datasetId)\n",
        "\n",
        "print(dataset)\n",
        "\n",
        "g.add((dataset, RDF.type, schema.Dataset))\n",
        "\n",
        "# Dataset Identifier\n",
        "datasetIdentifier = BNode()\n",
        "g.add((datasetIdentifier, RDF.type, opp.Identifier))\n",
        "datasetIdScheme = BNode()\n",
        "g.add((datasetIdScheme, RDF.type, opp.DatasetIdentfierScheme))\n",
        "g.add((datasetIdentifier, opp.identifierScheme, datasetIdScheme))\n",
        "g.add((datasetIdentifier, opp.identifierValue, Literal(datasetId, datatype=XSD.token)))\n",
        "g.add((dataset, opp.identifier, datasetIdentifier))\n",
        "\n",
        "g.add((dataset, schema.name, Literal(dp.descriptor['title'], datatype=XSD.string)))\n",
        "g.add((dataset, schema.description, Literal(dp.descriptor['description'], datatype=XSD.string)))\n",
        "g.add((dataset, schema.url, Literal(dp.descriptor['homepage'], datatype=XSD.anyURI)))\n",
        "g.add((dataset, schema.version, Literal(dp.descriptor['version'], datatype=XSD.token)))\n",
        "g.add((dataset, schema.alternateName, Literal(dp.descriptor['opp:shortName'], datatype=XSD.string)))\n",
        "\n",
        "for keyword in dp.descriptor['keywords']:\n",
        "  g.add((dataset, schema.keyword, Literal(keyword, datatype=XSD.token)))"
      ],
      "execution_count": 24,
      "outputs": [
        {
          "output_type": "stream",
          "text": [
            "http://id.oceanproteinportal.org/dataset/cf4891ae-fddc-3e2c-9dbc-a3aca5498c5f\n"
          ],
          "name": "stdout"
        }
      ]
    },
    {
      "cell_type": "code",
      "metadata": {
        "id": "cwTifvl5bAjP"
      },
      "source": [
        "for index, contributor in enumerate(dp.descriptor['contributors']):\n",
        "  # Agent\n",
        "  agent = BNode(\"agent-{idx:.2f}\".format(idx=index))\n",
        "  if 'uri' in contributor:\n",
        "    agent = URIRef(contributor['uri'])\n",
        "  # TODO: SHACL rule to infer proper Agent subclass\n",
        "\n",
        "  g.add((agent, RDF.type, opp.Agent))\n",
        "  g.add((agent, schema.name, Literal(contributor['title'], datatype=XSD.string)))\n",
        "  if 'email' in contributor:\n",
        "    g.add((agent, schema.email, Literal(contributor['email'], datatype=XSD.string)))\n",
        "  if 'orcid' in contributor:\n",
        "    orcid = BNode()\n",
        "    g.add((orcid, RDF.type, opp.Identifier))\n",
        "    g.add((orcid, opp.identifierScheme, wikidata.Q51044))\n",
        "    g.add((orcid, opp.identifierValue, Literal(contributor['orcid'], datatype=XSD.token)))\n",
        "    g.add((agent, opp.identifier, orcid))\n",
        "  # Role\n",
        "  if 'role' in contributor:\n",
        "    role = opp.Role_Contributor\n",
        "    if 'author' == contributor['role']:\n",
        "      role = opp.Role_Author\n",
        "    elif 'contact' == contributor['role']:\n",
        "      role = opp.Role_Contact\n",
        "    elif 'publisher' == contributor['role']:\n",
        "      role = opp.Role_Publisher\n",
        "\n",
        "  # AgentRole\n",
        "  agent_role = BNode()\n",
        "  g.add((agent_role, RDF.type, opp.AgentRole))\n",
        "  g.add((agent_role, opp.isAgentRoleFor, dataset))\n",
        "  g.add((agent_role, opp.performedBy, agent))\n",
        "  g.add((agent_role, opp.inRole, role))\n",
        "  # TODO: SHACL rule to infer opp.hasAgentRole"
      ],
      "execution_count": 38,
      "outputs": []
    },
    {
      "cell_type": "code",
      "metadata": {
        "colab": {
          "base_uri": "https://localhost:8080/"
        },
        "id": "PvMsQVN5bGxc",
        "outputId": "8d57d9dc-2d0c-49e5-98e0-c84a815b9ef6"
      },
      "source": [
        "print(g.serialize(format='ttl').decode(\"utf-8\"))"
      ],
      "execution_count": 39,
      "outputs": [
        {
          "output_type": "stream",
          "text": [
            "@prefix opp: <http://schema.oceanproteinportal.org/v2/> .\n",
            "@prefix schema: <http://schema.org/> .\n",
            "@prefix wikidata: <http://www.wikidata.org/entity/> .\n",
            "@prefix xsd: <http://www.w3.org/2001/XMLSchema#> .\n",
            "\n",
            "<http://lod.bco-dmo.org/id/affiliation/191> a opp:Agent ;\n",
            "    schema:email \"info@bco-dmo.org\"^^xsd:string ;\n",
            "    schema:name \"BCO-DMO\"^^xsd:string .\n",
            "\n",
            "<http://lod.bco-dmo.org/id/person/50985> a opp:Agent ;\n",
            "    opp:identifier [ a opp:Identifier ;\n",
            "            opp:identifierScheme wikidata:Q51044 ;\n",
            "            opp:identifierValue \"0000-0001-6040-9295\"^^xsd:token ],\n",
            "        [ a opp:Identifier ;\n",
            "            opp:identifierScheme wikidata:Q51044 ;\n",
            "            opp:identifierValue \"0000-0001-6040-9295\"^^xsd:token ],\n",
            "        [ a opp:Identifier ;\n",
            "            opp:identifierScheme wikidata:Q51044 ;\n",
            "            opp:identifierValue \"0000-0001-6040-9295\"^^xsd:token ],\n",
            "        [ a opp:Identifier ;\n",
            "            opp:identifierScheme wikidata:Q51044 ;\n",
            "            opp:identifierValue \"0000-0001-6040-9295\"^^xsd:token ],\n",
            "        [ a opp:Identifier ;\n",
            "            opp:identifierScheme wikidata:Q51044 ;\n",
            "            opp:identifierValue \"0000-0001-6040-9295\"^^xsd:token ],\n",
            "        [ a opp:Identifier ;\n",
            "            opp:identifierScheme wikidata:Q51044 ;\n",
            "            opp:identifierValue \"0000-0001-6040-9295\"^^xsd:token ] ;\n",
            "    schema:email \"msaito@whoi.edu\"^^xsd:string ;\n",
            "    schema:name \"Makoto Saito\"^^xsd:string .\n",
            "\n",
            "<http://id.oceanproteinportal.org/dataset/cf4891ae-fddc-3e2c-9dbc-a3aca5498c5f> a schema:Dataset ;\n",
            "    opp:hasAgentRole [ a opp:AgentRole ;\n",
            "            opp:inRole opp:Role_Publisher ;\n",
            "            opp:isAgentRoleFor <http://id.oceanproteinportal.org/dataset/cf4891ae-fddc-3e2c-9dbc-a3aca5498c5f> ;\n",
            "            opp:performedBy <http://lod.bco-dmo.org/id/affiliation/191> ],\n",
            "        [ a opp:AgentRole ;\n",
            "            opp:inRole opp:Role_Author ;\n",
            "            opp:isAgentRoleFor <http://id.oceanproteinportal.org/dataset/cf4891ae-fddc-3e2c-9dbc-a3aca5498c5f> ;\n",
            "            opp:performedBy <http://lod.bco-dmo.org/id/person/50985> ] ;\n",
            "    opp:identifier [ a opp:Identifier ;\n",
            "            opp:identifierScheme [ a opp:DatasetIdentfierScheme ] ;\n",
            "            opp:identifierValue \"cf4891ae-fddc-3e2c-9dbc-a3aca5498c5f\"^^xsd:token ] ;\n",
            "    schema:alternateName \"METZYME\"^^xsd:string ;\n",
            "    schema:description \"Global metaproteomic dataset for KM1128 the METZYME expedition. Size fractionated samples collected by McLane pump filters (filter size 0.2 – 3.0 micron). The global proteome dataset presented here included 16951 protein identifications and 31994 unique peptide identifications (Table S1) compiled from 37 samples and 74 raw files (CID and HCD modes for each file) and ### total spectra.\"^^xsd:string ;\n",
            "    schema:keyword \"Large Volume Pumping System-WTS-LV\"^^xsd:token,\n",
            "        \"METZYME\"^^xsd:token,\n",
            "        \"Mass Spectrometer\"^^xsd:token,\n",
            "        \"McLane Pumps WTS-LV\"^^xsd:token,\n",
            "        \"Thermo Vantage mass spectrometer\"^^xsd:token,\n",
            "        \"proteomics\"^^xsd:token ;\n",
            "    schema:name \"METYZME Global Proteomics Dataset for expedition KM1128\"^^xsd:string ;\n",
            "    schema:url \"https://www.bco-dmo.org/project/2236\"^^xsd:anyURI ;\n",
            "    schema:version \"0.1.0\"^^xsd:token .\n",
            "\n",
            "[] a opp:AgentRole ;\n",
            "    opp:inRole opp:Role_Author ;\n",
            "    opp:isAgentRoleFor <http://id.oceanproteinportal.org/dataset/cf4891ae-fddc-3e2c-9dbc-a3aca5498c5f> ;\n",
            "    opp:performedBy <http://lod.bco-dmo.org/id/person/50985> .\n",
            "\n",
            "[] a opp:AgentRole ;\n",
            "    opp:inRole opp:Role_Author ;\n",
            "    opp:isAgentRoleFor <http://id.oceanproteinportal.org/dataset/cf4891ae-fddc-3e2c-9dbc-a3aca5498c5f> ;\n",
            "    opp:performedBy <http://lod.bco-dmo.org/id/person/50985> .\n",
            "\n",
            "[] a opp:AgentRole ;\n",
            "    opp:inRole opp:Role_Publisher ;\n",
            "    opp:isAgentRoleFor <http://id.oceanproteinportal.org/dataset/cf4891ae-fddc-3e2c-9dbc-a3aca5498c5f> ;\n",
            "    opp:performedBy <http://lod.bco-dmo.org/id/affiliation/191> .\n",
            "\n",
            "[] a opp:AgentRole ;\n",
            "    opp:inRole opp:Role_Author ;\n",
            "    opp:isAgentRoleFor <http://id.oceanproteinportal.org/dataset/cf4891ae-fddc-3e2c-9dbc-a3aca5498c5f> ;\n",
            "    opp:performedBy <http://lod.bco-dmo.org/id/person/50985> .\n",
            "\n",
            "[] a opp:AgentRole ;\n",
            "    opp:inRole opp:Role_Author ;\n",
            "    opp:isAgentRoleFor <http://id.oceanproteinportal.org/dataset/cf4891ae-fddc-3e2c-9dbc-a3aca5498c5f> ;\n",
            "    opp:performedBy <http://lod.bco-dmo.org/id/person/50985> .\n",
            "\n",
            "[] a opp:AgentRole ;\n",
            "    opp:inRole opp:Role_Author ;\n",
            "    opp:isAgentRoleFor <http://id.oceanproteinportal.org/dataset/cf4891ae-fddc-3e2c-9dbc-a3aca5498c5f> ;\n",
            "    opp:performedBy <http://lod.bco-dmo.org/id/person/50985> .\n",
            "\n",
            "[] a opp:AgentRole ;\n",
            "    opp:inRole opp:Role_Publisher ;\n",
            "    opp:isAgentRoleFor <http://id.oceanproteinportal.org/dataset/cf4891ae-fddc-3e2c-9dbc-a3aca5498c5f> ;\n",
            "    opp:performedBy <http://lod.bco-dmo.org/id/affiliation/191> .\n",
            "\n",
            "[] a opp:AgentRole ;\n",
            "    opp:inRole opp:Role_Publisher ;\n",
            "    opp:isAgentRoleFor <http://id.oceanproteinportal.org/dataset/cf4891ae-fddc-3e2c-9dbc-a3aca5498c5f> ;\n",
            "    opp:performedBy <http://lod.bco-dmo.org/id/affiliation/191> .\n",
            "\n",
            "[] a opp:AgentRole ;\n",
            "    opp:inRole opp:Role_Publisher ;\n",
            "    opp:isAgentRoleFor <http://id.oceanproteinportal.org/dataset/cf4891ae-fddc-3e2c-9dbc-a3aca5498c5f> ;\n",
            "    opp:performedBy <http://lod.bco-dmo.org/id/affiliation/191> .\n",
            "\n",
            "[] a opp:AgentRole ;\n",
            "    opp:inRole opp:Role_Publisher ;\n",
            "    opp:isAgentRoleFor <http://id.oceanproteinportal.org/dataset/cf4891ae-fddc-3e2c-9dbc-a3aca5498c5f> ;\n",
            "    opp:performedBy <http://lod.bco-dmo.org/id/affiliation/191> .\n",
            "\n",
            "\n"
          ],
          "name": "stdout"
        }
      ]
    }
  ]
}